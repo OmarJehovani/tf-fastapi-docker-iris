{
 "cells": [
  {
   "cell_type": "code",
   "execution_count": 1,
   "metadata": {},
   "outputs": [
    {
     "name": "stdout",
     "output_type": "stream",
     "text": [
      "{'class': 'virginica', 'probability': 1.0}\n"
     ]
    }
   ],
   "source": [
    "import numpy as np\n",
    "from sklearn.datasets import load_iris\n",
    "from sklearn.linear_model import LogisticRegression\n",
    "\n",
    "# Cargar datos de sklearn\n",
    "X, y = load_iris(return_X_y=True)\n",
    "\n",
    "# Entrenar el modelo usando regresion logistica\n",
    "clf = LogisticRegression(solver='lbfgs',\n",
    "                          max_iter=1000,\n",
    "                          multi_class='multinomial').fit(X, y)\n",
    "# Definir los tipos de iris\n",
    "iris_type = {\n",
    "    0: 'setosa',\n",
    "    1: 'versicolor',\n",
    "    2: 'virginica'\n",
    "}\n",
    "\n",
    "\n",
    "# Definir valores dummy\n",
    "sepal_length, sepal_width, petal_length, petal_width = 9,7,11,11\n",
    "X = [sepal_length, sepal_width, petal_length, petal_width]\n",
    "\n",
    "# Realizar una prediccion\n",
    "prediction = clf.predict_proba([X])\n",
    "print({'class': iris_type[np.argmax(prediction)],\n",
    "        'probability': round(max(prediction[0]), 2)})"
   ]
  }
 ],
 "metadata": {
  "kernelspec": {
   "display_name": "Python 3.10.6 64-bit",
   "language": "python",
   "name": "python3"
  },
  "language_info": {
   "codemirror_mode": {
    "name": "ipython",
    "version": 3
   },
   "file_extension": ".py",
   "mimetype": "text/x-python",
   "name": "python",
   "nbconvert_exporter": "python",
   "pygments_lexer": "ipython3",
   "version": "3.10.6"
  },
  "orig_nbformat": 4,
  "vscode": {
   "interpreter": {
    "hash": "aee8b7b246df8f9039afb4144a1f6fd8d2ca17a180786b69acc140d282b71a49"
   }
  }
 },
 "nbformat": 4,
 "nbformat_minor": 2
}
